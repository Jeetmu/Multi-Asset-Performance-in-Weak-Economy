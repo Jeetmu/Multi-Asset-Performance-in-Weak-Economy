{
 "cells": [
  {
   "cell_type": "code",
   "execution_count": 1,
   "id": "fde7299f-967b-4223-9c70-f48c2a38d653",
   "metadata": {},
   "outputs": [],
   "source": [
    "import pandas as pd\n",
    "import numpy as np\n",
    "import matplotlib.pyplot as plt \n",
    "import matplotlib.dates as mdates\n",
    "import seaborn as sns\n",
    "import plotly"
   ]
  },
  {
   "cell_type": "code",
   "execution_count": 2,
   "id": "a56b8c63-b0db-42a7-957d-350cd8a1a16f",
   "metadata": {},
   "outputs": [
    {
     "data": {
      "text/html": [
       "<div>\n",
       "<style scoped>\n",
       "    .dataframe tbody tr th:only-of-type {\n",
       "        vertical-align: middle;\n",
       "    }\n",
       "\n",
       "    .dataframe tbody tr th {\n",
       "        vertical-align: top;\n",
       "    }\n",
       "\n",
       "    .dataframe thead th {\n",
       "        text-align: right;\n",
       "    }\n",
       "</style>\n",
       "<table border=\"1\" class=\"dataframe\">\n",
       "  <thead>\n",
       "    <tr style=\"text-align: right;\">\n",
       "      <th></th>\n",
       "      <th>Date</th>\n",
       "      <th>Price</th>\n",
       "      <th>Percentage</th>\n",
       "      <th>Price.1</th>\n",
       "    </tr>\n",
       "  </thead>\n",
       "  <tbody>\n",
       "    <tr>\n",
       "      <th>0</th>\n",
       "      <td>1/5/2024</td>\n",
       "      <td>4.681</td>\n",
       "      <td>5%</td>\n",
       "      <td>95.319</td>\n",
       "    </tr>\n",
       "    <tr>\n",
       "      <th>1</th>\n",
       "      <td>1/4/2024</td>\n",
       "      <td>4.784</td>\n",
       "      <td>5%</td>\n",
       "      <td>95.216</td>\n",
       "    </tr>\n",
       "    <tr>\n",
       "      <th>2</th>\n",
       "      <td>1/3/2024</td>\n",
       "      <td>4.349</td>\n",
       "      <td>4%</td>\n",
       "      <td>95.651</td>\n",
       "    </tr>\n",
       "    <tr>\n",
       "      <th>3</th>\n",
       "      <td>1/2/2024</td>\n",
       "      <td>4.382</td>\n",
       "      <td>4%</td>\n",
       "      <td>95.618</td>\n",
       "    </tr>\n",
       "    <tr>\n",
       "      <th>4</th>\n",
       "      <td>1/1/2024</td>\n",
       "      <td>4.173</td>\n",
       "      <td>4%</td>\n",
       "      <td>95.827</td>\n",
       "    </tr>\n",
       "  </tbody>\n",
       "</table>\n",
       "</div>"
      ],
      "text/plain": [
       "       Date  Price Percentage  Price.1\n",
       "0  1/5/2024  4.681         5%   95.319\n",
       "1  1/4/2024  4.784         5%   95.216\n",
       "2  1/3/2024  4.349         4%   95.651\n",
       "3  1/2/2024  4.382         4%   95.618\n",
       "4  1/1/2024  4.173         4%   95.827"
      ]
     },
     "execution_count": 2,
     "metadata": {},
     "output_type": "execute_result"
    }
   ],
   "source": [
    "df = pd.read_csv(\"Bond Price.csv\")\n",
    "df.head()"
   ]
  },
  {
   "cell_type": "code",
   "execution_count": 4,
   "id": "12e07ddb-1f01-4914-84a8-0b88e857c99b",
   "metadata": {},
   "outputs": [],
   "source": [
    "df.set_index(\"Date\", inplace=True)"
   ]
  },
  {
   "cell_type": "code",
   "execution_count": 5,
   "id": "008a4d2d-3390-4a45-99a0-6d730389641c",
   "metadata": {},
   "outputs": [
    {
     "data": {
      "text/html": [
       "<div>\n",
       "<style scoped>\n",
       "    .dataframe tbody tr th:only-of-type {\n",
       "        vertical-align: middle;\n",
       "    }\n",
       "\n",
       "    .dataframe tbody tr th {\n",
       "        vertical-align: top;\n",
       "    }\n",
       "\n",
       "    .dataframe thead th {\n",
       "        text-align: right;\n",
       "    }\n",
       "</style>\n",
       "<table border=\"1\" class=\"dataframe\">\n",
       "  <thead>\n",
       "    <tr style=\"text-align: right;\">\n",
       "      <th></th>\n",
       "      <th>Price</th>\n",
       "      <th>Percentage</th>\n",
       "      <th>Price.1</th>\n",
       "    </tr>\n",
       "    <tr>\n",
       "      <th>Date</th>\n",
       "      <th></th>\n",
       "      <th></th>\n",
       "      <th></th>\n",
       "    </tr>\n",
       "  </thead>\n",
       "  <tbody>\n",
       "    <tr>\n",
       "      <th>1/5/2024</th>\n",
       "      <td>4.681</td>\n",
       "      <td>5%</td>\n",
       "      <td>95.319</td>\n",
       "    </tr>\n",
       "    <tr>\n",
       "      <th>1/4/2024</th>\n",
       "      <td>4.784</td>\n",
       "      <td>5%</td>\n",
       "      <td>95.216</td>\n",
       "    </tr>\n",
       "    <tr>\n",
       "      <th>1/3/2024</th>\n",
       "      <td>4.349</td>\n",
       "      <td>4%</td>\n",
       "      <td>95.651</td>\n",
       "    </tr>\n",
       "    <tr>\n",
       "      <th>1/2/2024</th>\n",
       "      <td>4.382</td>\n",
       "      <td>4%</td>\n",
       "      <td>95.618</td>\n",
       "    </tr>\n",
       "    <tr>\n",
       "      <th>1/1/2024</th>\n",
       "      <td>4.173</td>\n",
       "      <td>4%</td>\n",
       "      <td>95.827</td>\n",
       "    </tr>\n",
       "  </tbody>\n",
       "</table>\n",
       "</div>"
      ],
      "text/plain": [
       "          Price Percentage  Price.1\n",
       "Date                               \n",
       "1/5/2024  4.681         5%   95.319\n",
       "1/4/2024  4.784         5%   95.216\n",
       "1/3/2024  4.349         4%   95.651\n",
       "1/2/2024  4.382         4%   95.618\n",
       "1/1/2024  4.173         4%   95.827"
      ]
     },
     "execution_count": 5,
     "metadata": {},
     "output_type": "execute_result"
    }
   ],
   "source": [
    "df.head()"
   ]
  },
  {
   "cell_type": "code",
   "execution_count": null,
   "id": "45ea68ba-1980-42d4-88c9-839482b203d5",
   "metadata": {},
   "outputs": [],
   "source": [
    "fv = 1000\n",
    "year_to_maturity = 30\n"
   ]
  }
 ],
 "metadata": {
  "kernelspec": {
   "display_name": "Python 3 (ipykernel)",
   "language": "python",
   "name": "python3"
  },
  "language_info": {
   "codemirror_mode": {
    "name": "ipython",
    "version": 3
   },
   "file_extension": ".py",
   "mimetype": "text/x-python",
   "name": "python",
   "nbconvert_exporter": "python",
   "pygments_lexer": "ipython3",
   "version": "3.12.3"
  }
 },
 "nbformat": 4,
 "nbformat_minor": 5
}
